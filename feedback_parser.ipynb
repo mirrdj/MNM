{
 "cells": [
  {
   "cell_type": "code",
   "execution_count": 3,
   "id": "3d24c170",
   "metadata": {},
   "outputs": [
    {
     "name": "stderr",
     "output_type": "stream",
     "text": [
      "Device set to use mps:0\n"
     ]
    },
    {
     "data": {
      "text/plain": [
       "'leaving before they conclude is seen as disengagement'"
      ]
     },
     "execution_count": 3,
     "metadata": {},
     "output_type": "execute_result"
    }
   ],
   "source": [
    "import pandas as pd\n",
    "from transformers import pipeline\n",
    "\n",
    "def answer_question_from_csv(question: str, csv_file: str) -> str:\n",
    "    \"\"\"\n",
    "    Answers a question based on feedback data from a CSV file.\n",
    "\n",
    "    Parameters:\n",
    "    - question (str): The question to be answered.\n",
    "    - csv_file (str): Path to the CSV file containing feedback data.\n",
    "\n",
    "    Returns:\n",
    "    - str: The answer extracted from the feedback data.\n",
    "    \"\"\"\n",
    "    # Load the feedback data\n",
    "    try:\n",
    "        df = pd.read_csv(csv_file)\n",
    "    except FileNotFoundError:\n",
    "        return f\"Error: The file '{csv_file}' was not found.\"\n",
    "    except pd.errors.EmptyDataError:\n",
    "        return f\"Error: The file '{csv_file}' is empty.\"\n",
    "    except pd.errors.ParserError:\n",
    "        return f\"Error: The file '{csv_file}' could not be parsed.\"\n",
    "\n",
    "    # Check if the 'Feedback' column exists\n",
    "    if 'Feedback' not in df.columns:\n",
    "        return \"Error: The CSV file does not contain a 'Feedback' column.\"\n",
    "\n",
    "    # Combine all feedback entries into a single context\n",
    "    context = \"\\n\".join(df['Feedback'].dropna().astype(str).tolist())\n",
    "\n",
    "    # Initialize the question-answering pipeline with a pre-trained model\n",
    "    qa_pipeline = pipeline(\"question-answering\", model=\"distilbert-base-uncased-distilled-squad\")\n",
    "\n",
    "    # Use the pipeline to answer the question based on the context\n",
    "    result = qa_pipeline(question=question, context=context)\n",
    "\n",
    "    return result['answer']\n",
    "\n",
    "\n",
    "answer_question_from_csv(\"What is the most obvious problem people bring up across all departments\", \"feedback.csv\")\n"
   ]
  }
 ],
 "metadata": {
  "kernelspec": {
   "display_name": ".venv",
   "language": "python",
   "name": "python3"
  },
  "language_info": {
   "codemirror_mode": {
    "name": "ipython",
    "version": 3
   },
   "file_extension": ".py",
   "mimetype": "text/x-python",
   "name": "python",
   "nbconvert_exporter": "python",
   "pygments_lexer": "ipython3",
   "version": "3.13.3"
  }
 },
 "nbformat": 4,
 "nbformat_minor": 5
}
